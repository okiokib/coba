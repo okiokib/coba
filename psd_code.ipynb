{
 "cells": [
  {
   "cell_type": "markdown",
   "id": "6fae405f",
   "metadata": {},
   "source": [
    "# Dataset Ispa"
   ]
  },
  {
   "cell_type": "code",
   "execution_count": 3,
   "id": "a48572f7",
   "metadata": {},
   "outputs": [
    {
     "data": {
      "text/html": [
       "<div>\n",
       "<style scoped>\n",
       "    .dataframe tbody tr th:only-of-type {\n",
       "        vertical-align: middle;\n",
       "    }\n",
       "\n",
       "    .dataframe tbody tr th {\n",
       "        vertical-align: top;\n",
       "    }\n",
       "\n",
       "    .dataframe thead th {\n",
       "        text-align: right;\n",
       "    }\n",
       "</style>\n",
       "<table border=\"1\" class=\"dataframe\">\n",
       "  <thead>\n",
       "    <tr style=\"text-align: right;\">\n",
       "      <th></th>\n",
       "      <th>Nama</th>\n",
       "      <th>Gender</th>\n",
       "      <th>Umur</th>\n",
       "      <th>Batuk</th>\n",
       "      <th>Demam</th>\n",
       "      <th>Pilek</th>\n",
       "      <th>Sesak Napas</th>\n",
       "      <th>Radang Tenggorokan</th>\n",
       "      <th>TD sistolik (mmhg)</th>\n",
       "      <th>TD diastolik (mmhg)</th>\n",
       "      <th>ND (x/mnt)</th>\n",
       "      <th>RR (x/mnt)</th>\n",
       "      <th>S</th>\n",
       "      <th>Kategori</th>\n",
       "    </tr>\n",
       "  </thead>\n",
       "  <tbody>\n",
       "    <tr>\n",
       "      <th>0</th>\n",
       "      <td>Mofli</td>\n",
       "      <td>L</td>\n",
       "      <td>67</td>\n",
       "      <td>0</td>\n",
       "      <td>1</td>\n",
       "      <td>0</td>\n",
       "      <td>0</td>\n",
       "      <td>1</td>\n",
       "      <td>110</td>\n",
       "      <td>70</td>\n",
       "      <td>80</td>\n",
       "      <td>20</td>\n",
       "      <td>37.5</td>\n",
       "      <td>Non pneunomia</td>\n",
       "    </tr>\n",
       "    <tr>\n",
       "      <th>1</th>\n",
       "      <td>Munawwir</td>\n",
       "      <td>P</td>\n",
       "      <td>45</td>\n",
       "      <td>0</td>\n",
       "      <td>1</td>\n",
       "      <td>0</td>\n",
       "      <td>0</td>\n",
       "      <td>0</td>\n",
       "      <td>110</td>\n",
       "      <td>70</td>\n",
       "      <td>80</td>\n",
       "      <td>20</td>\n",
       "      <td>37.5</td>\n",
       "      <td>Non pneunomia</td>\n",
       "    </tr>\n",
       "    <tr>\n",
       "      <th>2</th>\n",
       "      <td>Abd. Rohman</td>\n",
       "      <td>L</td>\n",
       "      <td>25</td>\n",
       "      <td>1</td>\n",
       "      <td>1</td>\n",
       "      <td>1</td>\n",
       "      <td>1</td>\n",
       "      <td>0</td>\n",
       "      <td>110</td>\n",
       "      <td>70</td>\n",
       "      <td>80</td>\n",
       "      <td>20</td>\n",
       "      <td>38.2</td>\n",
       "      <td>pneunomia</td>\n",
       "    </tr>\n",
       "    <tr>\n",
       "      <th>3</th>\n",
       "      <td>Hoinul Anam</td>\n",
       "      <td>L</td>\n",
       "      <td>35</td>\n",
       "      <td>1</td>\n",
       "      <td>1</td>\n",
       "      <td>0</td>\n",
       "      <td>1</td>\n",
       "      <td>1</td>\n",
       "      <td>110</td>\n",
       "      <td>70</td>\n",
       "      <td>80</td>\n",
       "      <td>18</td>\n",
       "      <td>38.5</td>\n",
       "      <td>pneunomia</td>\n",
       "    </tr>\n",
       "    <tr>\n",
       "      <th>4</th>\n",
       "      <td>Atour Rohman</td>\n",
       "      <td>L</td>\n",
       "      <td>46</td>\n",
       "      <td>1</td>\n",
       "      <td>1</td>\n",
       "      <td>0</td>\n",
       "      <td>0</td>\n",
       "      <td>0</td>\n",
       "      <td>110</td>\n",
       "      <td>70</td>\n",
       "      <td>80</td>\n",
       "      <td>20</td>\n",
       "      <td>36.5</td>\n",
       "      <td>Non pneunomia</td>\n",
       "    </tr>\n",
       "    <tr>\n",
       "      <th>5</th>\n",
       "      <td>Hamimah</td>\n",
       "      <td>P</td>\n",
       "      <td>66</td>\n",
       "      <td>1</td>\n",
       "      <td>1</td>\n",
       "      <td>0</td>\n",
       "      <td>1</td>\n",
       "      <td>1</td>\n",
       "      <td>110</td>\n",
       "      <td>70</td>\n",
       "      <td>80</td>\n",
       "      <td>20</td>\n",
       "      <td>38.2</td>\n",
       "      <td>pneunomia</td>\n",
       "    </tr>\n",
       "    <tr>\n",
       "      <th>6</th>\n",
       "      <td>Lucy Mahakam</td>\n",
       "      <td>L</td>\n",
       "      <td>58</td>\n",
       "      <td>1</td>\n",
       "      <td>1</td>\n",
       "      <td>0</td>\n",
       "      <td>0</td>\n",
       "      <td>0</td>\n",
       "      <td>110</td>\n",
       "      <td>70</td>\n",
       "      <td>80</td>\n",
       "      <td>20</td>\n",
       "      <td>38.2</td>\n",
       "      <td>Non pneunomia</td>\n",
       "    </tr>\n",
       "    <tr>\n",
       "      <th>7</th>\n",
       "      <td>Putri Fajn. M</td>\n",
       "      <td>P</td>\n",
       "      <td>56</td>\n",
       "      <td>1</td>\n",
       "      <td>1</td>\n",
       "      <td>1</td>\n",
       "      <td>1</td>\n",
       "      <td>0</td>\n",
       "      <td>110</td>\n",
       "      <td>70</td>\n",
       "      <td>80</td>\n",
       "      <td>20</td>\n",
       "      <td>38.2</td>\n",
       "      <td>pneunomia</td>\n",
       "    </tr>\n",
       "    <tr>\n",
       "      <th>8</th>\n",
       "      <td>Rismawati Dewi</td>\n",
       "      <td>P</td>\n",
       "      <td>24</td>\n",
       "      <td>1</td>\n",
       "      <td>1</td>\n",
       "      <td>0</td>\n",
       "      <td>0</td>\n",
       "      <td>0</td>\n",
       "      <td>110</td>\n",
       "      <td>70</td>\n",
       "      <td>80</td>\n",
       "      <td>20</td>\n",
       "      <td>38.2</td>\n",
       "      <td>Non pneunomia</td>\n",
       "    </tr>\n",
       "    <tr>\n",
       "      <th>9</th>\n",
       "      <td>Subaidah</td>\n",
       "      <td>P</td>\n",
       "      <td>87</td>\n",
       "      <td>1</td>\n",
       "      <td>1</td>\n",
       "      <td>0</td>\n",
       "      <td>0</td>\n",
       "      <td>0</td>\n",
       "      <td>110</td>\n",
       "      <td>70</td>\n",
       "      <td>80</td>\n",
       "      <td>20</td>\n",
       "      <td>38.2</td>\n",
       "      <td>Non pneunomia</td>\n",
       "    </tr>\n",
       "  </tbody>\n",
       "</table>\n",
       "</div>"
      ],
      "text/plain": [
       "             Nama Gender  Umur  Batuk  Demam  Pilek  Sesak Napas  \\\n",
       "0           Mofli      L    67      0      1      0            0   \n",
       "1        Munawwir      P    45      0      1      0            0   \n",
       "2     Abd. Rohman      L    25      1      1      1            1   \n",
       "3     Hoinul Anam      L    35      1      1      0            1   \n",
       "4    Atour Rohman      L    46      1      1      0            0   \n",
       "5         Hamimah      P    66      1      1      0            1   \n",
       "6    Lucy Mahakam      L    58      1      1      0            0   \n",
       "7   Putri Fajn. M      P    56      1      1      1            1   \n",
       "8  Rismawati Dewi      P    24      1      1      0            0   \n",
       "9        Subaidah      P    87      1      1      0            0   \n",
       "\n",
       "   Radang Tenggorokan  TD sistolik (mmhg)  TD diastolik (mmhg)  ND (x/mnt)  \\\n",
       "0                   1                 110                   70          80   \n",
       "1                   0                 110                   70          80   \n",
       "2                   0                 110                   70          80   \n",
       "3                   1                 110                   70          80   \n",
       "4                   0                 110                   70          80   \n",
       "5                   1                 110                   70          80   \n",
       "6                   0                 110                   70          80   \n",
       "7                   0                 110                   70          80   \n",
       "8                   0                 110                   70          80   \n",
       "9                   0                 110                   70          80   \n",
       "\n",
       "   RR (x/mnt)     S       Kategori  \n",
       "0          20  37.5  Non pneunomia  \n",
       "1          20  37.5  Non pneunomia  \n",
       "2          20  38.2      pneunomia  \n",
       "3          18  38.5      pneunomia  \n",
       "4          20  36.5  Non pneunomia  \n",
       "5          20  38.2      pneunomia  \n",
       "6          20  38.2  Non pneunomia  \n",
       "7          20  38.2      pneunomia  \n",
       "8          20  38.2  Non pneunomia  \n",
       "9          20  38.2  Non pneunomia  "
      ]
     },
     "execution_count": 3,
     "metadata": {},
     "output_type": "execute_result"
    }
   ],
   "source": [
    "# Import library pandas\n",
    "import pandas as pd\n",
    "\n",
    "# Menampilkan dataset dari file CSV\n",
    "dataset = pd.read_csv('ispa_data.csv')\n",
    "dataset.head(10)"
   ]
  },
  {
   "cell_type": "markdown",
   "id": "0fc7d79a",
   "metadata": {},
   "source": [
    "Data yang digunakan dalam penelitian ini berupa data ispa (infeksi saluran pernapasan akut) yang diperoleh puskesmas tongguh. Data terdiri dari 14 kolom dan 113 baris. Untuk 13 kolom berupa atribut dan 1 kolom merupakan target/kategori. Untuk kategorinya sendiri berupa pneunomia untuk yang positif dan non pneunomia untuk yang negatif. Untuk data berupa kategorikal, untuk angka 0 merupakan No dan untuk angka 1 merupakan Yes. Untuk jumlah non pneunomia sebanyak 48 orang dan untuk jumlah pneunomia sebanyak 65 orang"
   ]
  },
  {
   "cell_type": "markdown",
   "id": "32b597d4",
   "metadata": {},
   "source": [
    "# Cleaning data (hapus fitur)"
   ]
  },
  {
   "cell_type": "code",
   "execution_count": 4,
   "id": "e0dd850e",
   "metadata": {},
   "outputs": [
    {
     "data": {
      "text/html": [
       "<div>\n",
       "<style scoped>\n",
       "    .dataframe tbody tr th:only-of-type {\n",
       "        vertical-align: middle;\n",
       "    }\n",
       "\n",
       "    .dataframe tbody tr th {\n",
       "        vertical-align: top;\n",
       "    }\n",
       "\n",
       "    .dataframe thead th {\n",
       "        text-align: right;\n",
       "    }\n",
       "</style>\n",
       "<table border=\"1\" class=\"dataframe\">\n",
       "  <thead>\n",
       "    <tr style=\"text-align: right;\">\n",
       "      <th></th>\n",
       "      <th>Gender</th>\n",
       "      <th>Umur</th>\n",
       "      <th>Batuk</th>\n",
       "      <th>Demam</th>\n",
       "      <th>Pilek</th>\n",
       "      <th>Sesak Napas</th>\n",
       "      <th>Radang Tenggorokan</th>\n",
       "      <th>RR (x/mnt)</th>\n",
       "      <th>S</th>\n",
       "      <th>Kategori</th>\n",
       "    </tr>\n",
       "  </thead>\n",
       "  <tbody>\n",
       "    <tr>\n",
       "      <th>0</th>\n",
       "      <td>L</td>\n",
       "      <td>67</td>\n",
       "      <td>0</td>\n",
       "      <td>1</td>\n",
       "      <td>0</td>\n",
       "      <td>0</td>\n",
       "      <td>1</td>\n",
       "      <td>20</td>\n",
       "      <td>37.5</td>\n",
       "      <td>Non pneunomia</td>\n",
       "    </tr>\n",
       "    <tr>\n",
       "      <th>1</th>\n",
       "      <td>P</td>\n",
       "      <td>45</td>\n",
       "      <td>0</td>\n",
       "      <td>1</td>\n",
       "      <td>0</td>\n",
       "      <td>0</td>\n",
       "      <td>0</td>\n",
       "      <td>20</td>\n",
       "      <td>37.5</td>\n",
       "      <td>Non pneunomia</td>\n",
       "    </tr>\n",
       "    <tr>\n",
       "      <th>2</th>\n",
       "      <td>L</td>\n",
       "      <td>25</td>\n",
       "      <td>1</td>\n",
       "      <td>1</td>\n",
       "      <td>1</td>\n",
       "      <td>1</td>\n",
       "      <td>0</td>\n",
       "      <td>20</td>\n",
       "      <td>38.2</td>\n",
       "      <td>pneunomia</td>\n",
       "    </tr>\n",
       "    <tr>\n",
       "      <th>3</th>\n",
       "      <td>L</td>\n",
       "      <td>35</td>\n",
       "      <td>1</td>\n",
       "      <td>1</td>\n",
       "      <td>0</td>\n",
       "      <td>1</td>\n",
       "      <td>1</td>\n",
       "      <td>18</td>\n",
       "      <td>38.5</td>\n",
       "      <td>pneunomia</td>\n",
       "    </tr>\n",
       "    <tr>\n",
       "      <th>4</th>\n",
       "      <td>L</td>\n",
       "      <td>46</td>\n",
       "      <td>1</td>\n",
       "      <td>1</td>\n",
       "      <td>0</td>\n",
       "      <td>0</td>\n",
       "      <td>0</td>\n",
       "      <td>20</td>\n",
       "      <td>36.5</td>\n",
       "      <td>Non pneunomia</td>\n",
       "    </tr>\n",
       "    <tr>\n",
       "      <th>5</th>\n",
       "      <td>P</td>\n",
       "      <td>66</td>\n",
       "      <td>1</td>\n",
       "      <td>1</td>\n",
       "      <td>0</td>\n",
       "      <td>1</td>\n",
       "      <td>1</td>\n",
       "      <td>20</td>\n",
       "      <td>38.2</td>\n",
       "      <td>pneunomia</td>\n",
       "    </tr>\n",
       "    <tr>\n",
       "      <th>6</th>\n",
       "      <td>L</td>\n",
       "      <td>58</td>\n",
       "      <td>1</td>\n",
       "      <td>1</td>\n",
       "      <td>0</td>\n",
       "      <td>0</td>\n",
       "      <td>0</td>\n",
       "      <td>20</td>\n",
       "      <td>38.2</td>\n",
       "      <td>Non pneunomia</td>\n",
       "    </tr>\n",
       "    <tr>\n",
       "      <th>7</th>\n",
       "      <td>P</td>\n",
       "      <td>56</td>\n",
       "      <td>1</td>\n",
       "      <td>1</td>\n",
       "      <td>1</td>\n",
       "      <td>1</td>\n",
       "      <td>0</td>\n",
       "      <td>20</td>\n",
       "      <td>38.2</td>\n",
       "      <td>pneunomia</td>\n",
       "    </tr>\n",
       "    <tr>\n",
       "      <th>8</th>\n",
       "      <td>P</td>\n",
       "      <td>24</td>\n",
       "      <td>1</td>\n",
       "      <td>1</td>\n",
       "      <td>0</td>\n",
       "      <td>0</td>\n",
       "      <td>0</td>\n",
       "      <td>20</td>\n",
       "      <td>38.2</td>\n",
       "      <td>Non pneunomia</td>\n",
       "    </tr>\n",
       "    <tr>\n",
       "      <th>9</th>\n",
       "      <td>P</td>\n",
       "      <td>87</td>\n",
       "      <td>1</td>\n",
       "      <td>1</td>\n",
       "      <td>0</td>\n",
       "      <td>0</td>\n",
       "      <td>0</td>\n",
       "      <td>20</td>\n",
       "      <td>38.2</td>\n",
       "      <td>Non pneunomia</td>\n",
       "    </tr>\n",
       "  </tbody>\n",
       "</table>\n",
       "</div>"
      ],
      "text/plain": [
       "  Gender  Umur  Batuk  Demam  Pilek  Sesak Napas  Radang Tenggorokan  \\\n",
       "0      L    67      0      1      0            0                   1   \n",
       "1      P    45      0      1      0            0                   0   \n",
       "2      L    25      1      1      1            1                   0   \n",
       "3      L    35      1      1      0            1                   1   \n",
       "4      L    46      1      1      0            0                   0   \n",
       "5      P    66      1      1      0            1                   1   \n",
       "6      L    58      1      1      0            0                   0   \n",
       "7      P    56      1      1      1            1                   0   \n",
       "8      P    24      1      1      0            0                   0   \n",
       "9      P    87      1      1      0            0                   0   \n",
       "\n",
       "   RR (x/mnt)     S       Kategori  \n",
       "0          20  37.5  Non pneunomia  \n",
       "1          20  37.5  Non pneunomia  \n",
       "2          20  38.2      pneunomia  \n",
       "3          18  38.5      pneunomia  \n",
       "4          20  36.5  Non pneunomia  \n",
       "5          20  38.2      pneunomia  \n",
       "6          20  38.2  Non pneunomia  \n",
       "7          20  38.2      pneunomia  \n",
       "8          20  38.2  Non pneunomia  \n",
       "9          20  38.2  Non pneunomia  "
      ]
     },
     "execution_count": 4,
     "metadata": {},
     "output_type": "execute_result"
    }
   ],
   "source": [
    "#hapus fitur \n",
    "hapus_fitur = pd.DataFrame(dataset)\n",
    "\n",
    "kolom_yang_dihapus = ['Nama','TD sistolik (mmhg)', 'TD diastolik (mmhg)', 'ND (x/mnt)']\n",
    "hapus_fitur = hapus_fitur.drop(columns=kolom_yang_dihapus)\n",
    "\n",
    "# Menampilkan DataFrame setelah menghapus kolom\n",
    "hapus_fitur.head(10)\n"
   ]
  },
  {
   "cell_type": "markdown",
   "id": "90efa12e",
   "metadata": {},
   "source": [
    "Dilakukan penghapusan fitur Nama karena hal ini menyangkut penyakit seseorang tersebut, sehingga sebaiknya dilakukan penghapusan fitur untuk nama agar data pasien tetap aman dan penyakitnya tidak diketahui orang lain yang tidak dikehendaki. Untuk fitur Tekanan darah sistole, tekanan darah distole dan Nadi dilakukan penghapusan karena dari jurnal yang telah saya baca, kebanyakan tidak memakai fitur ini."
   ]
  },
  {
   "cell_type": "markdown",
   "id": "5b457c32",
   "metadata": {},
   "source": [
    "# Normalisasi (Min Max)"
   ]
  },
  {
   "cell_type": "code",
   "execution_count": 5,
   "id": "47fdcaf1",
   "metadata": {},
   "outputs": [
    {
     "name": "stdout",
     "output_type": "stream",
     "text": [
      "    Gender      Umur  Batuk  Demam  Pilek  Sesak Napas  Radang Tenggorokan  \\\n",
      "0        L  0.726027      0      1      0            0                   1   \n",
      "1        P  0.424658      0      1      0            0                   0   \n",
      "2        L  0.150685      1      1      1            1                   0   \n",
      "3        L  0.287671      1      1      0            1                   1   \n",
      "4        L  0.438356      1      1      0            0                   0   \n",
      "..     ...       ...    ...    ...    ...          ...                 ...   \n",
      "108      P  0.109589      1      1      0            1                   1   \n",
      "109      L  0.383562      1      1      0            0                   0   \n",
      "110      L  0.397260      1      1      1            0                   0   \n",
      "111      L  0.520548      1      1      1            1                   0   \n",
      "112      L  0.534247      1      1      1            1                   0   \n",
      "\n",
      "     RR (x/mnt)         S       Kategori  \n",
      "0           1.0  0.514286  Non pneunomia  \n",
      "1           1.0  0.514286  Non pneunomia  \n",
      "2           1.0  0.714286      pneunomia  \n",
      "3           0.0  0.800000      pneunomia  \n",
      "4           1.0  0.228571  Non pneunomia  \n",
      "..          ...       ...            ...  \n",
      "108         1.0  0.714286      pneunomia  \n",
      "109         1.0  0.000000  Non pneunomia  \n",
      "110         1.0  0.828571      pneunomia  \n",
      "111         1.0  0.742857      pneunomia  \n",
      "112         1.0  0.971429      pneunomia  \n",
      "\n",
      "[113 rows x 10 columns]\n"
     ]
    }
   ],
   "source": [
    "# Membuat DataFrame dari dataset\n",
    "df = pd.DataFrame(hapus_fitur)\n",
    "\n",
    "# Daftar kolom yang akan dinormalisasi\n",
    "kolom_normalisasi = ['Umur', 'RR (x/mnt)', 'S']\n",
    "\n",
    "# Fungsi Min-Max Scaling\n",
    "def min_max_scaling(column):\n",
    "    min_val = column.min()\n",
    "    max_val = column.max()\n",
    "    return (column - min_val) / (max_val - min_val)\n",
    "\n",
    "# Melakukan normalisasi Min-Max Scaling pada kolom yang dipilih\n",
    "for kolom in kolom_normalisasi:\n",
    "    df[kolom] = min_max_scaling(df[kolom])\n",
    "\n",
    "# Tampilkan hasil normalisasi\n",
    "print(df)\n"
   ]
  },
  {
   "cell_type": "markdown",
   "id": "e650dd6f",
   "metadata": {},
   "source": [
    "Untuk normalisasi dilakukan dengan min max normalisasi. Normalisasi dilakukan pada kolom umur, RR (respirasi), dan S (Suhu)"
   ]
  },
  {
   "cell_type": "markdown",
   "id": "4e8b9940",
   "metadata": {},
   "source": [
    "# Missing Value"
   ]
  },
  {
   "cell_type": "code",
   "execution_count": 6,
   "id": "517a7317",
   "metadata": {},
   "outputs": [
    {
     "data": {
      "text/plain": [
       "False"
      ]
     },
     "execution_count": 6,
     "metadata": {},
     "output_type": "execute_result"
    }
   ],
   "source": [
    "# Mengecek Missing Value\n",
    "hapus_fitur.isnull().values.any()"
   ]
  },
  {
   "cell_type": "code",
   "execution_count": 84,
   "id": "f6428d9a",
   "metadata": {},
   "outputs": [
    {
     "data": {
      "text/plain": [
       "0"
      ]
     },
     "execution_count": 84,
     "metadata": {},
     "output_type": "execute_result"
    }
   ],
   "source": [
    "# Mengecek data kosong (NaN)\n",
    "hapus_fitur.isnull().sum().sum()"
   ]
  },
  {
   "cell_type": "markdown",
   "id": "4586deea",
   "metadata": {},
   "source": [
    "Code diatas merupakan pengecekan untuk missing value. Setelah dilakukan pengecekan, tidak ada missing value yang perlu ditangani."
   ]
  },
  {
   "cell_type": "markdown",
   "id": "1cca3073",
   "metadata": {},
   "source": [
    "# Preprocessing"
   ]
  },
  {
   "cell_type": "markdown",
   "id": "0fccdd2b",
   "metadata": {},
   "source": [
    "# Transformasi"
   ]
  },
  {
   "cell_type": "code",
   "execution_count": 7,
   "id": "b3893044",
   "metadata": {},
   "outputs": [
    {
     "name": "stdout",
     "output_type": "stream",
     "text": [
      "[['L' 0.726027397260274 0 ... 1 1.0 0.5142857142857135]\n",
      " ['P' 0.4246575342465753 0 ... 0 1.0 0.5142857142857135]\n",
      " ['L' 0.1506849315068493 1 ... 0 1.0 0.7142857142857143]\n",
      " ...\n",
      " ['L' 0.3972602739726027 1 ... 0 1.0 0.8285714285714282]\n",
      " ['L' 0.5205479452054794 1 ... 0 1.0 0.7428571428571412]\n",
      " ['L' 0.5342465753424658 1 ... 0 1.0 0.971428571428571]]\n",
      "['Non pneunomia' 'Non pneunomia' 'pneunomia' 'pneunomia' 'Non pneunomia'\n",
      " 'pneunomia' 'Non pneunomia' 'pneunomia' 'Non pneunomia' 'Non pneunomia'\n",
      " 'pneunomia' 'pneunomia' 'Non pneunomia' 'Non pneunomia' 'pneunomia'\n",
      " 'Non pneunomia' 'pneunomia' 'Non pneunomia' 'Non pneunomia'\n",
      " 'Non pneunomia' 'Non pneunomia' 'pneunomia' 'Non pneunomia'\n",
      " 'Non pneunomia' 'Non pneunomia' 'pneunomia' 'Non pneunomia'\n",
      " 'Non pneunomia' 'pneunomia' 'Non pneunomia' 'Non pneunomia'\n",
      " 'Non pneunomia' 'pneunomia' 'Non pneunomia' 'Non pneunomia'\n",
      " 'Non pneunomia' 'Non pneunomia' 'pneunomia' 'Non pneunomia'\n",
      " 'Non pneunomia' 'pneunomia' 'Non pneunomia' 'Non pneunomia'\n",
      " 'Non pneunomia' 'Non pneunomia' 'Non pneunomia' 'pneunomia'\n",
      " 'Non pneunomia' 'pneunomia' 'Non pneunomia' 'Non pneunomia' 'pneunomia'\n",
      " 'Non pneunomia' 'Non pneunomia' 'pneunomia' 'pneunomia' 'pneunomia'\n",
      " 'pneunomia' 'pneunomia' 'pneunomia' 'Non pneunomia' 'Non pneunomia'\n",
      " 'Non pneunomia' 'Non pneunomia' 'pneunomia' 'Non pneunomia' 'pneunomia'\n",
      " 'pneunomia' 'pneunomia' 'pneunomia' 'pneunomia' 'Non pneunomia'\n",
      " 'pneunomia' 'pneunomia' 'pneunomia' 'pneunomia' 'pneunomia' 'pneunomia'\n",
      " 'pneunomia' 'pneunomia' 'pneunomia' 'pneunomia' 'Non pneunomia'\n",
      " 'pneunomia' 'pneunomia' 'pneunomia' 'pneunomia' 'pneunomia' 'pneunomia'\n",
      " 'pneunomia' 'pneunomia' 'pneunomia' 'Non pneunomia' 'pneunomia'\n",
      " 'pneunomia' 'pneunomia' 'pneunomia' 'pneunomia' 'pneunomia'\n",
      " 'Non pneunomia' 'pneunomia' 'pneunomia' 'pneunomia' 'Non pneunomia'\n",
      " 'pneunomia' 'pneunomia' 'pneunomia' 'pneunomia' 'pneunomia'\n",
      " 'Non pneunomia' 'pneunomia' 'pneunomia' 'pneunomia']\n"
     ]
    }
   ],
   "source": [
    "data = df\n",
    "\n",
    "# Membagi dataset menjadi X dan y\n",
    "X = data.iloc[:, :-1].values\n",
    "y = data.iloc[:, 9].values\n",
    "\n",
    "print (X)\n",
    "print (y)"
   ]
  },
  {
   "cell_type": "code",
   "execution_count": 8,
   "id": "a02a4940",
   "metadata": {},
   "outputs": [
    {
     "name": "stdout",
     "output_type": "stream",
     "text": [
      "[[0 0.726027397260274 0 ... 1 1.0 0.5142857142857135]\n",
      " [1 0.4246575342465753 0 ... 0 1.0 0.5142857142857135]\n",
      " [0 0.1506849315068493 1 ... 0 1.0 0.7142857142857143]\n",
      " ...\n",
      " [0 0.3972602739726027 1 ... 0 1.0 0.8285714285714282]\n",
      " [0 0.5205479452054794 1 ... 0 1.0 0.7428571428571412]\n",
      " [0 0.5342465753424658 1 ... 0 1.0 0.971428571428571]]\n"
     ]
    }
   ],
   "source": [
    "from sklearn.preprocessing import LabelEncoder\n",
    "\n",
    "# Menerapkan Label Encoding pada fitur kategori dalam X\n",
    "label_encoder = LabelEncoder()\n",
    "\n",
    "# Iterasi melalui setiap kolom dalam X\n",
    "for i in range(X.shape[1]):\n",
    "    if isinstance(X[0, i], str):  # Memeriksa apakah kolom ini adalah tipe data string (kategori)\n",
    "        X[:, i] = label_encoder.fit_transform(X[:, i])\n",
    "\n",
    "print(X)\n"
   ]
  },
  {
   "cell_type": "code",
   "execution_count": 9,
   "id": "fe911400",
   "metadata": {},
   "outputs": [
    {
     "name": "stdout",
     "output_type": "stream",
     "text": [
      "    Gender      Umur Batuk Demam Pilek Sesak Napas Radang Tenggorokan  \\\n",
      "0        0  0.726027     0     1     0           0                  1   \n",
      "1        1  0.424658     0     1     0           0                  0   \n",
      "2        0  0.150685     1     1     1           1                  0   \n",
      "3        0  0.287671     1     1     0           1                  1   \n",
      "4        0  0.438356     1     1     0           0                  0   \n",
      "..     ...       ...   ...   ...   ...         ...                ...   \n",
      "108      1  0.109589     1     1     0           1                  1   \n",
      "109      0  0.383562     1     1     0           0                  0   \n",
      "110      0   0.39726     1     1     1           0                  0   \n",
      "111      0  0.520548     1     1     1           1                  0   \n",
      "112      0  0.534247     1     1     1           1                  0   \n",
      "\n",
      "    RR (x/mnt)         S  \n",
      "0          1.0  0.514286  \n",
      "1          1.0  0.514286  \n",
      "2          1.0  0.714286  \n",
      "3          0.0       0.8  \n",
      "4          1.0  0.228571  \n",
      "..         ...       ...  \n",
      "108        1.0  0.714286  \n",
      "109        1.0       0.0  \n",
      "110        1.0  0.828571  \n",
      "111        1.0  0.742857  \n",
      "112        1.0  0.971429  \n",
      "\n",
      "[113 rows x 9 columns]\n"
     ]
    }
   ],
   "source": [
    "# Membuat DataFrame Pandas dari hasil transformasi\n",
    "X_encoded = pd.DataFrame(X, columns=data.columns[:-1])\n",
    "\n",
    "# Menampilkan DataFrame dengan tipe data yang benar\n",
    "print(X_encoded)\n",
    "\n",
    "X_encoded.to_excel('data_transformasi.xlsx', index=False)"
   ]
  },
  {
   "cell_type": "markdown",
   "id": "fc53a3ba",
   "metadata": {},
   "source": [
    "Dilakukan transformasi pada fitur atau kolom Gender yang sebelumnya L dan P diubah menjadi 0 dan 1, Untuk L diubah menjadi 0 dan P diubah menjadi 1"
   ]
  },
  {
   "cell_type": "code",
   "execution_count": 10,
   "id": "b031edbd",
   "metadata": {},
   "outputs": [
    {
     "name": "stdout",
     "output_type": "stream",
     "text": [
      "Hasil transformasi y:\n",
      "[0 0 1 1 0 1 0 1 0 0 1 1 0 0 1 0 1 0 0 0 0 1 0 0 0 1 0 0 1 0 0 0 1 0 0 0 0\n",
      " 1 0 0 1 0 0 0 0 0 1 0 1 0 0 1 0 0 1 1 1 1 1 1 0 0 0 0 1 0 1 1 1 1 1 0 1 1\n",
      " 1 1 1 1 1 1 1 1 0 1 1 1 1 1 1 1 1 1 0 1 1 1 1 1 1 0 1 1 1 0 1 1 1 1 1 0 1\n",
      " 1 1]\n"
     ]
    }
   ],
   "source": [
    "# Mengkodekan Variabel Dependen (y)\n",
    "from sklearn.preprocessing import LabelEncoder\n",
    "le=LabelEncoder()\n",
    "transform_y = le.fit_transform(y)\n",
    "print(\"Hasil transformasi y:\")\n",
    "print(transform_y)"
   ]
  },
  {
   "cell_type": "code",
   "execution_count": 11,
   "id": "725550ab",
   "metadata": {},
   "outputs": [
    {
     "name": "stdout",
     "output_type": "stream",
     "text": [
      "Hasil transformasi y:\n",
      "     Target\n",
      "0         0\n",
      "1         0\n",
      "2         1\n",
      "3         1\n",
      "4         0\n",
      "..      ...\n",
      "108       1\n",
      "109       0\n",
      "110       1\n",
      "111       1\n",
      "112       1\n",
      "\n",
      "[113 rows x 1 columns]\n"
     ]
    }
   ],
   "source": [
    "tabel_y = pd.DataFrame(transform_y, columns=['Target'])\n",
    "print(\"Hasil transformasi y:\")\n",
    "print(tabel_y)"
   ]
  },
  {
   "cell_type": "markdown",
   "id": "22d43071",
   "metadata": {},
   "source": [
    "Dilakukan transformasi untuk kategori atau target yang sebelumnya pneunomia dan non penunomia diubah menjadi 0 dan 1. Untuk non pneunomia diubah menjadi 0 dan untuk pneunomia diubah menjadi 1"
   ]
  },
  {
   "cell_type": "markdown",
   "id": "dacfeee6",
   "metadata": {},
   "source": [
    "# Korelasi Data (Pearson)"
   ]
  },
  {
   "cell_type": "code",
   "execution_count": 12,
   "id": "2195a3fe",
   "metadata": {},
   "outputs": [
    {
     "name": "stdout",
     "output_type": "stream",
     "text": [
      "Hasil penggabungan X dan y:\n",
      "    Gender      Umur Batuk Demam Pilek Sesak Napas Radang Tenggorokan  \\\n",
      "0        0  0.726027     0     1     0           0                  1   \n",
      "1        1  0.424658     0     1     0           0                  0   \n",
      "2        0  0.150685     1     1     1           1                  0   \n",
      "3        0  0.287671     1     1     0           1                  1   \n",
      "4        0  0.438356     1     1     0           0                  0   \n",
      "..     ...       ...   ...   ...   ...         ...                ...   \n",
      "108      1  0.109589     1     1     0           1                  1   \n",
      "109      0  0.383562     1     1     0           0                  0   \n",
      "110      0   0.39726     1     1     1           0                  0   \n",
      "111      0  0.520548     1     1     1           1                  0   \n",
      "112      0  0.534247     1     1     1           1                  0   \n",
      "\n",
      "    RR (x/mnt)         S  Target  \n",
      "0          1.0  0.514286       0  \n",
      "1          1.0  0.514286       0  \n",
      "2          1.0  0.714286       1  \n",
      "3          0.0       0.8       1  \n",
      "4          1.0  0.228571       0  \n",
      "..         ...       ...     ...  \n",
      "108        1.0  0.714286       1  \n",
      "109        1.0       0.0       0  \n",
      "110        1.0  0.828571       1  \n",
      "111        1.0  0.742857       1  \n",
      "112        1.0  0.971429       1  \n",
      "\n",
      "[113 rows x 10 columns]\n"
     ]
    }
   ],
   "source": [
    "# Menggabungkan DataFrame X dan y\n",
    "final_dataset = pd.concat([X_encoded, tabel_y], axis=1)\n",
    "\n",
    "# Menampilkan dataset hasil penggabungan\n",
    "print(\"Hasil penggabungan X dan y:\")\n",
    "print(final_dataset)"
   ]
  },
  {
   "cell_type": "code",
   "execution_count": 13,
   "id": "5d5cae2d",
   "metadata": {},
   "outputs": [],
   "source": [
    "correlation = final_dataset.corr()"
   ]
  },
  {
   "cell_type": "code",
   "execution_count": 14,
   "id": "d3090c01",
   "metadata": {},
   "outputs": [
    {
     "data": {
      "image/png": "[encoded data removed]",
      "text/plain": [
       "<Figure size 1000x800 with 2 Axes>"
      ]
     },
     "metadata": {},
     "output_type": "display_data"
    }
   ],
   "source": [
    "import matplotlib.pyplot as plt\n",
    "import seaborn as sns\n",
    "\n",
    "plt.figure(figsize=(10,8))\n",
    "plt.title('Correlation of Attributes with Class variable')\n",
    "a = sns.heatmap(correlation, square=True, annot=True, fmt='.2f', linecolor='white')\n",
    "a.set_xticklabels(a.get_xticklabels(), rotation=90)\n",
    "a.set_yticklabels(a.get_yticklabels(), rotation=30)           \n",
    "plt.show()"
   ]
  },
  {
   "cell_type": "markdown",
   "id": "3fe42de7",
   "metadata": {},
   "source": [
    "# SMOTE (Synthetic Minority Over-samplingTechnique )"
   ]
  },
  {
   "cell_type": "code",
   "execution_count": 15,
   "id": "7ffb9ca0",
   "metadata": {},
   "outputs": [
    {
     "name": "stdout",
     "output_type": "stream",
     "text": [
      "Class distribution before SMOTE: {0: 48, 1: 65}\n",
      "Class distribution after SMOTE: {0: 65, 1: 65}\n",
      "Resampled dataset:\n",
      "     Gender      Umur  Batuk  Demam  Pilek  Sesak Napas  Radang Tenggorokan  \\\n",
      "0       0.0  0.726027    0.0    1.0    0.0          0.0                 1.0   \n",
      "1       1.0  0.424658    0.0    1.0    0.0          0.0                 0.0   \n",
      "2       0.0  0.150685    1.0    1.0    1.0          1.0                 0.0   \n",
      "3       0.0  0.287671    1.0    1.0    0.0          1.0                 1.0   \n",
      "4       0.0  0.438356    1.0    1.0    0.0          0.0                 0.0   \n",
      "..      ...       ...    ...    ...    ...          ...                 ...   \n",
      "125     0.0  0.487664    1.0    1.0    0.0          0.0                 0.0   \n",
      "126     0.0  0.733698    1.0    1.0    0.0          0.0                 0.0   \n",
      "127     0.0  0.453852    1.0    1.0    0.0          0.0                 0.0   \n",
      "128     0.0  0.882377    1.0    1.0    0.0          0.0                 0.0   \n",
      "129     1.0  0.268962    1.0    1.0    0.0          0.0                 0.0   \n",
      "\n",
      "     RR (x/mnt)         S  Target  \n",
      "0           1.0  0.514286       0  \n",
      "1           1.0  0.514286       0  \n",
      "2           1.0  0.714286       1  \n",
      "3           0.0  0.800000       1  \n",
      "4           1.0  0.228571       0  \n",
      "..          ...       ...     ...  \n",
      "125         1.0  0.228571       0  \n",
      "126         1.0  0.523619       0  \n",
      "127         1.0  0.228571       0  \n",
      "128         1.0  0.228571       0  \n",
      "129         1.0  0.493576       0  \n",
      "\n",
      "[130 rows x 10 columns]\n"
     ]
    }
   ],
   "source": [
    "from imblearn.over_sampling import SMOTE\n",
    "from collections import Counter\n",
    "\n",
    "data = final_dataset\n",
    "\n",
    "# Importing the dataset\n",
    "X = data.iloc[:, :-1].values\n",
    "y = data.iloc[:, 9].values\n",
    "\n",
    "# Display the class distribution before SMOTE\n",
    "class_distribution_before = dict(Counter(y))\n",
    "print(\"Class distribution before SMOTE:\", class_distribution_before)\n",
    "\n",
    "# Apply SMOTE to balance the dataset\n",
    "smote = SMOTE(sampling_strategy='auto', k_neighbors=5, random_state=42)\n",
    "X_resampled, y_resampled = smote.fit_resample(X, y)\n",
    "\n",
    "# Get column names from the original DataFrame 'data'\n",
    "column_names = data.columns[:-1].tolist()\n",
    "\n",
    "# Convert the resampled data to a DataFrame\n",
    "resampled_df = pd.DataFrame(X_resampled, columns=column_names)\n",
    "resampled_df['Target'] = y_resampled\n",
    "\n",
    "# Display the class distribution after SMOTE\n",
    "class_distribution_after = dict(Counter(y_resampled))\n",
    "print(\"Class distribution after SMOTE:\", class_distribution_after)\n",
    "\n",
    "# You can now display the resampled dataset\n",
    "print(\"Resampled dataset:\")\n",
    "print(resampled_df)"
   ]
  },
  {
   "cell_type": "markdown",
   "id": "72154abf",
   "metadata": {},
   "source": [
    "# Klasifikasi"
   ]
  },
  {
   "cell_type": "markdown",
   "id": "18e2b1ee",
   "metadata": {},
   "source": [
    "Untuk klasifikasi dalam dataset ispa ini menggunakan metode K-Nearest Neighbour, Naive Bayes, dan Decision Tree agar dapat dilakukan pembandingan hasil akurasi."
   ]
  },
  {
   "cell_type": "code",
   "execution_count": 16,
   "id": "50996b18",
   "metadata": {},
   "outputs": [
    {
     "name": "stdout",
     "output_type": "stream",
     "text": [
      "[[0.         0.7260274  0.         ... 1.         1.         0.51428571]\n",
      " [1.         0.42465753 0.         ... 0.         1.         0.51428571]\n",
      " [0.         0.15068493 1.         ... 0.         1.         0.71428571]\n",
      " ...\n",
      " [0.         0.45385236 1.         ... 0.         1.         0.22857143]\n",
      " [0.         0.88237655 1.         ... 0.         1.         0.22857143]\n",
      " [1.         0.26896226 1.         ... 0.         1.         0.49357567]]\n",
      "[0 0 1 1 0 1 0 1 0 0 1 1 0 0 1 0 1 0 0 0 0 1 0 0 0 1 0 0 1 0 0 0 1 0 0 0 0\n",
      " 1 0 0 1 0 0 0 0 0 1 0 1 0 0 1 0 0 1 1 1 1 1 1 0 0 0 0 1 0 1 1 1 1 1 0 1 1\n",
      " 1 1 1 1 1 1 1 1 0 1 1 1 1 1 1 1 1 1 0 1 1 1 1 1 1 0 1 1 1 0 1 1 1 1 1 0 1\n",
      " 1 1 0 0 0 0 0 0 0 0 0 0 0 0 0 0 0 0 0]\n"
     ]
    }
   ],
   "source": [
    "data = resampled_df\n",
    "\n",
    "# Importing the dataset\n",
    "X = data.iloc[:, :-1].values\n",
    "y = data.iloc[:, 9].values\n",
    "\n",
    "print(X)\n",
    "print(y)"
   ]
  },
  {
   "cell_type": "code",
   "execution_count": 19,
   "id": "89ba46d9",
   "metadata": {},
   "outputs": [],
   "source": [
    "# split X and y into training and testing sets\n",
    "\n",
    "from sklearn.model_selection import train_test_split\n",
    "\n",
    "X_train, X_test, y_train, y_test = train_test_split(X, y, test_size = 0.1, random_state = 42)"
   ]
  },
  {
   "cell_type": "code",
   "execution_count": 20,
   "id": "bdad5bb3",
   "metadata": {},
   "outputs": [
    {
     "data": {
      "text/plain": [
       "((117, 9), (13, 9))"
      ]
     },
     "execution_count": 20,
     "metadata": {},
     "output_type": "execute_result"
    }
   ],
   "source": [
    "# check the shape of X_train and X_test\n",
    "\n",
    "X_train.shape, X_test.shape"
   ]
  },
  {
   "cell_type": "markdown",
   "id": "69be4217",
   "metadata": {},
   "source": [
    "# K-Nearest Neighbour"
   ]
  },
  {
   "cell_type": "code",
   "execution_count": 24,
   "id": "12b1cde1",
   "metadata": {},
   "outputs": [
    {
     "data": {
      "text/html": [
       "<style>#sk-container-id-4 {color: black;}#sk-container-id-4 pre{padding: 0;}#sk-container-id-4 div.sk-toggleable {background-color: white;}#sk-container-id-4 label.sk-toggleable__label {cursor: pointer;display: block;width: 100%;margin-bottom: 0;padding: 0.3em;box-sizing: border-box;text-align: center;}#sk-container-id-4 label.sk-toggleable__label-arrow:before {content: \"▸\";float: left;margin-right: 0.25em;color: #696969;}#sk-container-id-4 label.sk-toggleable__label-arrow:hover:before {color: black;}#sk-container-id-4 div.sk-estimator:hover label.sk-toggleable__label-arrow:before {color: black;}#sk-container-id-4 div.sk-toggleable__content {max-height: 0;max-width: 0;overflow: hidden;text-align: left;background-color: #f0f8ff;}#sk-container-id-4 div.sk-toggleable__content pre {margin: 0.2em;color: black;border-radius: 0.25em;background-color: #f0f8ff;}#sk-container-id-4 input.sk-toggleable__control:checked~div.sk-toggleable__content {max-height: 200px;max-width: 100%;overflow: auto;}#sk-container-id-4 input.sk-toggleable__control:checked~label.sk-toggleable__label-arrow:before {content: \"▾\";}#sk-container-id-4 div.sk-estimator input.sk-toggleable__control:checked~label.sk-toggleable__label {background-color: #d4ebff;}#sk-container-id-4 div.sk-label input.sk-toggleable__control:checked~label.sk-toggleable__label {background-color: #d4ebff;}#sk-container-id-4 input.sk-hidden--visually {border: 0;clip: rect(1px 1px 1px 1px);clip: rect(1px, 1px, 1px, 1px);height: 1px;margin: -1px;overflow: hidden;padding: 0;position: absolute;width: 1px;}#sk-container-id-4 div.sk-estimator {font-family: monospace;background-color: #f0f8ff;border: 1px dotted black;border-radius: 0.25em;box-sizing: border-box;margin-bottom: 0.5em;}#sk-container-id-4 div.sk-estimator:hover {background-color: #d4ebff;}#sk-container-id-4 div.sk-parallel-item::after {content: \"\";width: 100%;border-bottom: 1px solid gray;flex-grow: 1;}#sk-container-id-4 div.sk-label:hover label.sk-toggleable__label {background-color: #d4ebff;}#sk-container-id-4 div.sk-serial::before {content: \"\";position: absolute;border-left: 1px solid gray;box-sizing: border-box;top: 0;bottom: 0;left: 50%;z-index: 0;}#sk-container-id-4 div.sk-serial {display: flex;flex-direction: column;align-items: center;background-color: white;padding-right: 0.2em;padding-left: 0.2em;position: relative;}#sk-container-id-4 div.sk-item {position: relative;z-index: 1;}#sk-container-id-4 div.sk-parallel {display: flex;align-items: stretch;justify-content: center;background-color: white;position: relative;}#sk-container-id-4 div.sk-item::before, #sk-container-id-4 div.sk-parallel-item::before {content: \"\";position: absolute;border-left: 1px solid gray;box-sizing: border-box;top: 0;bottom: 0;left: 50%;z-index: -1;}#sk-container-id-4 div.sk-parallel-item {display: flex;flex-direction: column;z-index: 1;position: relative;background-color: white;}#sk-container-id-4 div.sk-parallel-item:first-child::after {align-self: flex-end;width: 50%;}#sk-container-id-4 div.sk-parallel-item:last-child::after {align-self: flex-start;width: 50%;}#sk-container-id-4 div.sk-parallel-item:only-child::after {width: 0;}#sk-container-id-4 div.sk-dashed-wrapped {border: 1px dashed gray;margin: 0 0.4em 0.5em 0.4em;box-sizing: border-box;padding-bottom: 0.4em;background-color: white;}#sk-container-id-4 div.sk-label label {font-family: monospace;font-weight: bold;display: inline-block;line-height: 1.2em;}#sk-container-id-4 div.sk-label-container {text-align: center;}#sk-container-id-4 div.sk-container {/* jupyter's `normalize.less` sets `[hidden] { display: none; }` but bootstrap.min.css set `[hidden] { display: none !important; }` so we also need the `!important` here to be able to override the default hidden behavior on the sphinx rendered scikit-learn.org. See: https://github.com/scikit-learn/scikit-learn/issues/21755 */display: inline-block !important;position: relative;}#sk-container-id-4 div.sk-text-repr-fallback {display: none;}</style><div id=\"sk-container-id-4\" class=\"sk-top-container\"><div class=\"sk-text-repr-fallback\"><pre>KNeighborsClassifier(n_neighbors=3, p=1)</pre><b>In a Jupyter environment, please rerun this cell to show the HTML representation or trust the notebook. <br />On GitHub, the HTML representation is unable to render, please try loading this page with nbviewer.org.</b></div><div class=\"sk-container\" hidden><div class=\"sk-item\"><div class=\"sk-estimator sk-toggleable\"><input class=\"sk-toggleable__control sk-hidden--visually\" id=\"sk-estimator-id-4\" type=\"checkbox\" checked><label for=\"sk-estimator-id-4\" class=\"sk-toggleable__label sk-toggleable__label-arrow\">KNeighborsClassifier</label><div class=\"sk-toggleable__content\"><pre>KNeighborsClassifier(n_neighbors=3, p=1)</pre></div></div></div></div></div>"
      ],
      "text/plain": [
       "KNeighborsClassifier(n_neighbors=3, p=1)"
      ]
     },
     "execution_count": 24,
     "metadata": {},
     "output_type": "execute_result"
    }
   ],
   "source": [
    "from sklearn.neighbors import KNeighborsClassifier\n",
    "import time\n",
    "\n",
    "# instantiate the model with Manhattan distance\n",
    "knn = KNeighborsClassifier(n_neighbors=3, p=1) #p1 = Manhattan Distance\n",
    "\n",
    "# record the start time\n",
    "start_time = time.time()\n",
    "\n",
    "# fit the model\n",
    "knn.fit(X_train, y_train)\n"
   ]
  },
  {
   "cell_type": "code",
   "execution_count": 25,
   "id": "ff7a1c0b",
   "metadata": {},
   "outputs": [
    {
     "name": "stdout",
     "output_type": "stream",
     "text": [
      "[1 1 0 0 0 1 1 1 1 0 1 0 1]\n"
     ]
    }
   ],
   "source": [
    "y_pred = knn.predict(X_test)\n",
    "\n",
    "print(y_pred)"
   ]
  },
  {
   "cell_type": "code",
   "execution_count": 26,
   "id": "02cfc557",
   "metadata": {},
   "outputs": [
    {
     "name": "stdout",
     "output_type": "stream",
     "text": [
      "Akurasi KNN: 100.00%\n",
      "Presisi KNN: 100.00%\n",
      "Recall KNN: 100.00%\n",
      "f1 score KNN: 100.00%\n",
      "Runtime K-Nearest Neighbors: 6.34 seconds\n"
     ]
    }
   ],
   "source": [
    "from sklearn.metrics import accuracy_score,precision_score, recall_score,f1_score\n",
    "\n",
    "# Hitung akurasi\n",
    "accuracy = accuracy_score(y_test, y_pred)\n",
    "print(\"Akurasi KNN: {:.2f}%\".format(accuracy * 100))\n",
    "precision = precision_score(y_test, y_pred, average='weighted')\n",
    "print(\"Presisi KNN: {:.2f}%\".format(precision * 100))\n",
    "recall = recall_score(y_test, y_pred, average='weighted')\n",
    "print(\"Recall KNN: {:.2f}%\".format(recall * 100))\n",
    "f1 = f1_score(y_test, y_pred, average='weighted')\n",
    "print(\"f1 score KNN: {:.2f}%\".format(f1 * 100))\n",
    "\n",
    "# record the end time\n",
    "end_time = time.time()\n",
    "\n",
    "# calculate the runtime\n",
    "runtime = end_time - start_time\n",
    "\n",
    "print(f\"Runtime K-Nearest Neighbors: {runtime:.2f} seconds\")"
   ]
  },
  {
   "cell_type": "markdown",
   "metadata": {},
   "source": [
    "# Prediksi Model"
   ]
  },
  {
   "cell_type": "code",
   "execution_count": 109,
   "metadata": {},
   "outputs": [
    {
     "name": "stdout",
     "output_type": "stream",
     "text": [
      "Predictions for new data: [0]\n",
      "Pasien Tidak Penumonia\n"
     ]
    }
   ],
   "source": [
    "from sklearn.neighbors import KNeighborsClassifier\n",
    "from sklearn.model_selection import train_test_split\n",
    "\n",
    "# Gantilah dengan jumlah tetangga (n_neighbors) dan metrik yang sesuai\n",
    "knn_model = KNeighborsClassifier(n_neighbors=3, metric='manhattan')\n",
    "\n",
    "# Latih model KNN\n",
    "knn_model.fit(X_train, y_train)\n",
    "\n",
    "# Data baru yang akan diprediksi\n",
    "new_data = new_data = [[0, 25, 0, 0, 1, 0, 0, 20, 38.2]]\n",
    "\n",
    "new_df = pd.DataFrame(new_data)\n",
    "\n",
    "# Lakukan prediksi pada data baru\n",
    "predictions = knn_model.predict(new_df)\n",
    "\n",
    "# Tampilkan hasil prediksi\n",
    "print(f'Predictions for new data: {predictions}')\n",
    "\n",
    "if (predictions[0]==0):\n",
    "    print('Pasien Tidak Penumonia')\n",
    "else:\n",
    "    print('Pasien PENUMONIA AAAA')"
   ]
  },
  {
   "cell_type": "markdown",
   "metadata": {},
   "source": [
    "# Simpan Model"
   ]
  },
  {
   "cell_type": "code",
   "execution_count": 77,
   "metadata": {},
   "outputs": [],
   "source": [
    "import pickle\n",
    "\n",
    "filename = 'prediksi_knn.sav'\n",
    "pickle.dump(knn_model, open(filename,'wb'))"
   ]
  },
  {
   "cell_type": "code",
   "execution_count": 55,
   "id": "8c9fbfea",
   "metadata": {},
   "outputs": [
    {
     "name": "stdout",
     "output_type": "stream",
     "text": [
      "Confusion matrix\n",
      "\n",
      " [[4 0]\n",
      " [0 8]]\n"
     ]
    }
   ],
   "source": [
    "# Print the Confusion Matrix and slice it into four pieces\n",
    "\n",
    "from sklearn.metrics import confusion_matrix\n",
    "\n",
    "cm = confusion_matrix(y_test, y_pred)\n",
    "\n",
    "print('Confusion matrix\\n\\n', cm)"
   ]
  },
  {
   "cell_type": "code",
   "execution_count": 56,
   "id": "0d5c9cc7",
   "metadata": {},
   "outputs": [
    {
     "data": {
      "text/plain": [
       "Text(0.5, 23.52222222222222, 'Predicted label')"
      ]
     },
     "execution_count": 56,
     "metadata": {},
     "output_type": "execute_result"
    },
    {
     "data": {
      "image/png": "[encoded data removed]",
      "text/plain": [
       "<Figure size 640x480 with 2 Axes>"
      ]
     },
     "metadata": {},
     "output_type": "display_data"
    }
   ],
   "source": [
    "y_pred = knn.predict(X_test)\n",
    "from sklearn import metrics\n",
    "cnf_matrix = metrics.confusion_matrix(y_test, y_pred)\n",
    "p = sns.heatmap(pd.DataFrame(cnf_matrix), annot=True, cmap=\"YlGnBu\" ,fmt='g')\n",
    "plt.title('Confusion matrix', y=1.1)\n",
    "plt.ylabel('Actual label')\n",
    "plt.xlabel('Predicted label')"
   ]
  },
  {
   "cell_type": "markdown",
   "id": "ecf0214a",
   "metadata": {},
   "source": [
    "# Naive Bayes"
   ]
  },
  {
   "cell_type": "code",
   "execution_count": 27,
   "id": "a5eed3f4",
   "metadata": {},
   "outputs": [
    {
     "data": {
      "text/html": [
       "<style>#sk-container-id-5 {color: black;}#sk-container-id-5 pre{padding: 0;}#sk-container-id-5 div.sk-toggleable {background-color: white;}#sk-container-id-5 label.sk-toggleable__label {cursor: pointer;display: block;width: 100%;margin-bottom: 0;padding: 0.3em;box-sizing: border-box;text-align: center;}#sk-container-id-5 label.sk-toggleable__label-arrow:before {content: \"▸\";float: left;margin-right: 0.25em;color: #696969;}#sk-container-id-5 label.sk-toggleable__label-arrow:hover:before {color: black;}#sk-container-id-5 div.sk-estimator:hover label.sk-toggleable__label-arrow:before {color: black;}#sk-container-id-5 div.sk-toggleable__content {max-height: 0;max-width: 0;overflow: hidden;text-align: left;background-color: #f0f8ff;}#sk-container-id-5 div.sk-toggleable__content pre {margin: 0.2em;color: black;border-radius: 0.25em;background-color: #f0f8ff;}#sk-container-id-5 input.sk-toggleable__control:checked~div.sk-toggleable__content {max-height: 200px;max-width: 100%;overflow: auto;}#sk-container-id-5 input.sk-toggleable__control:checked~label.sk-toggleable__label-arrow:before {content: \"▾\";}#sk-container-id-5 div.sk-estimator input.sk-toggleable__control:checked~label.sk-toggleable__label {background-color: #d4ebff;}#sk-container-id-5 div.sk-label input.sk-toggleable__control:checked~label.sk-toggleable__label {background-color: #d4ebff;}#sk-container-id-5 input.sk-hidden--visually {border: 0;clip: rect(1px 1px 1px 1px);clip: rect(1px, 1px, 1px, 1px);height: 1px;margin: -1px;overflow: hidden;padding: 0;position: absolute;width: 1px;}#sk-container-id-5 div.sk-estimator {font-family: monospace;background-color: #f0f8ff;border: 1px dotted black;border-radius: 0.25em;box-sizing: border-box;margin-bottom: 0.5em;}#sk-container-id-5 div.sk-estimator:hover {background-color: #d4ebff;}#sk-container-id-5 div.sk-parallel-item::after {content: \"\";width: 100%;border-bottom: 1px solid gray;flex-grow: 1;}#sk-container-id-5 div.sk-label:hover label.sk-toggleable__label {background-color: #d4ebff;}#sk-container-id-5 div.sk-serial::before {content: \"\";position: absolute;border-left: 1px solid gray;box-sizing: border-box;top: 0;bottom: 0;left: 50%;z-index: 0;}#sk-container-id-5 div.sk-serial {display: flex;flex-direction: column;align-items: center;background-color: white;padding-right: 0.2em;padding-left: 0.2em;position: relative;}#sk-container-id-5 div.sk-item {position: relative;z-index: 1;}#sk-container-id-5 div.sk-parallel {display: flex;align-items: stretch;justify-content: center;background-color: white;position: relative;}#sk-container-id-5 div.sk-item::before, #sk-container-id-5 div.sk-parallel-item::before {content: \"\";position: absolute;border-left: 1px solid gray;box-sizing: border-box;top: 0;bottom: 0;left: 50%;z-index: -1;}#sk-container-id-5 div.sk-parallel-item {display: flex;flex-direction: column;z-index: 1;position: relative;background-color: white;}#sk-container-id-5 div.sk-parallel-item:first-child::after {align-self: flex-end;width: 50%;}#sk-container-id-5 div.sk-parallel-item:last-child::after {align-self: flex-start;width: 50%;}#sk-container-id-5 div.sk-parallel-item:only-child::after {width: 0;}#sk-container-id-5 div.sk-dashed-wrapped {border: 1px dashed gray;margin: 0 0.4em 0.5em 0.4em;box-sizing: border-box;padding-bottom: 0.4em;background-color: white;}#sk-container-id-5 div.sk-label label {font-family: monospace;font-weight: bold;display: inline-block;line-height: 1.2em;}#sk-container-id-5 div.sk-label-container {text-align: center;}#sk-container-id-5 div.sk-container {/* jupyter's `normalize.less` sets `[hidden] { display: none; }` but bootstrap.min.css set `[hidden] { display: none !important; }` so we also need the `!important` here to be able to override the default hidden behavior on the sphinx rendered scikit-learn.org. See: https://github.com/scikit-learn/scikit-learn/issues/21755 */display: inline-block !important;position: relative;}#sk-container-id-5 div.sk-text-repr-fallback {display: none;}</style><div id=\"sk-container-id-5\" class=\"sk-top-container\"><div class=\"sk-text-repr-fallback\"><pre>GaussianNB()</pre><b>In a Jupyter environment, please rerun this cell to show the HTML representation or trust the notebook. <br />On GitHub, the HTML representation is unable to render, please try loading this page with nbviewer.org.</b></div><div class=\"sk-container\" hidden><div class=\"sk-item\"><div class=\"sk-estimator sk-toggleable\"><input class=\"sk-toggleable__control sk-hidden--visually\" id=\"sk-estimator-id-5\" type=\"checkbox\" checked><label for=\"sk-estimator-id-5\" class=\"sk-toggleable__label sk-toggleable__label-arrow\">GaussianNB</label><div class=\"sk-toggleable__content\"><pre>GaussianNB()</pre></div></div></div></div></div>"
      ],
      "text/plain": [
       "GaussianNB()"
      ]
     },
     "execution_count": 27,
     "metadata": {},
     "output_type": "execute_result"
    }
   ],
   "source": [
    "from sklearn.naive_bayes import GaussianNB\n",
    "import time\n",
    "\n",
    "# instantiate the model\n",
    "gnb = GaussianNB()\n",
    "\n",
    "# record the start time\n",
    "start_time = time.time()\n",
    "\n",
    "# fit the model\n",
    "gnb.fit(X_train, y_train)\n"
   ]
  },
  {
   "cell_type": "code",
   "execution_count": 28,
   "id": "cfe6c56a",
   "metadata": {},
   "outputs": [
    {
     "name": "stdout",
     "output_type": "stream",
     "text": [
      "[1 1 0 1 0 1 1 1 1 0 1 0 1]\n"
     ]
    }
   ],
   "source": [
    "y_pred = gnb.predict(X_test)\n",
    "\n",
    "print(y_pred)"
   ]
  },
  {
   "cell_type": "code",
   "execution_count": 29,
   "id": "8f6218ea",
   "metadata": {},
   "outputs": [
    {
     "name": "stdout",
     "output_type": "stream",
     "text": [
      "Akurasi Naive Bayes: 92.31%\n",
      "Presisi Naive Bayes: 93.16%\n",
      "Recall Naive Bayes: 92.31%\n",
      "f1 score Naive Bayes: 92.11%\n",
      "Runtime Naive Bayes: 5.50 seconds\n"
     ]
    }
   ],
   "source": [
    "from sklearn.metrics import accuracy_score,precision_score, recall_score,f1_score\n",
    "\n",
    "# Hitung akurasi\n",
    "accuracy = accuracy_score(y_test, y_pred)\n",
    "print(\"Akurasi Naive Bayes: {:.2f}%\".format(accuracy * 100))\n",
    "precision = precision_score(y_test, y_pred, average='weighted')\n",
    "print(\"Presisi Naive Bayes: {:.2f}%\".format(precision * 100))\n",
    "recall = recall_score(y_test, y_pred, average='weighted')\n",
    "print(\"Recall Naive Bayes: {:.2f}%\".format(recall * 100))\n",
    "f1 = f1_score(y_test, y_pred, average='weighted')\n",
    "print(\"f1 score Naive Bayes: {:.2f}%\".format(f1 * 100))\n",
    "\n",
    "# record the end time\n",
    "end_time = time.time()\n",
    "\n",
    "# calculate the runtime\n",
    "runtime = end_time - start_time\n",
    "\n",
    "print(f\"Runtime Naive Bayes: {runtime:.2f} seconds\")"
   ]
  },
  {
   "cell_type": "markdown",
   "metadata": {},
   "source": [
    "# Prediksi Model"
   ]
  },
  {
   "cell_type": "code",
   "execution_count": 118,
   "metadata": {},
   "outputs": [
    {
     "name": "stdout",
     "output_type": "stream",
     "text": [
      "Predictions for new data: [0]\n",
      "Pasien Tidak Penumonia\n"
     ]
    }
   ],
   "source": [
    "from sklearn.naive_bayes import GaussianNB\n",
    "from sklearn.model_selection import train_test_split\n",
    "\n",
    "# Gantilah dengan parameter yang sesuai\n",
    "naive_bayes_model = GaussianNB()\n",
    "\n",
    "# Latih model Naive Bayes\n",
    "naive_bayes_model.fit(X_train, y_train)\n",
    "\n",
    "# Data baru yang akan diprediksi\n",
    "new_data = new_data = [[0, 0.479452, 1, 1, 0, 0, 0, 1, 0.228571]]\n",
    "\n",
    "new_df = pd.DataFrame(new_data)\n",
    "\n",
    "# Lakukan prediksi pada data baru\n",
    "predictions = naive_bayes_model.predict(new_df)\n",
    "\n",
    "# Tampilkan hasil prediksi\n",
    "print(f'Predictions for new data: {predictions}')\n",
    "\n",
    "if (predictions[0]==0):\n",
    "    print('Pasien Tidak Penumonia')\n",
    "else:\n",
    "    print('Pasien PENUMONIA AAAA')"
   ]
  },
  {
   "cell_type": "markdown",
   "metadata": {},
   "source": [
    "# Simpan Model"
   ]
  },
  {
   "cell_type": "code",
   "execution_count": 119,
   "metadata": {},
   "outputs": [],
   "source": [
    "import pickle\n",
    "\n",
    "filename = 'prediksi_naive_bayes.sav'\n",
    "pickle.dump(naive_bayes_model, open(filename,'wb'))"
   ]
  },
  {
   "cell_type": "code",
   "execution_count": 60,
   "id": "2d046783",
   "metadata": {},
   "outputs": [
    {
     "name": "stdout",
     "output_type": "stream",
     "text": [
      "Confusion matrix\n",
      "\n",
      " [[4 0]\n",
      " [0 8]]\n"
     ]
    }
   ],
   "source": [
    "# Print the Confusion Matrix and slice it into four pieces\n",
    "\n",
    "from sklearn.metrics import confusion_matrix\n",
    "\n",
    "cm = confusion_matrix(y_test, y_pred)\n",
    "\n",
    "print('Confusion matrix\\n\\n', cm)"
   ]
  },
  {
   "cell_type": "code",
   "execution_count": 61,
   "id": "4c5527a3",
   "metadata": {},
   "outputs": [
    {
     "data": {
      "text/plain": [
       "Text(0.5, 23.52222222222222, 'Predicted label')"
      ]
     },
     "execution_count": 61,
     "metadata": {},
     "output_type": "execute_result"
    },
    {
     "data": {
      "image/png": "[encoded data removed]",
      "text/plain": [
       "<Figure size 640x480 with 2 Axes>"
      ]
     },
     "metadata": {},
     "output_type": "display_data"
    }
   ],
   "source": [
    "y_pred = gnb.predict(X_test)\n",
    "from sklearn import metrics\n",
    "cnf_matrix = metrics.confusion_matrix(y_test, y_pred)\n",
    "p = sns.heatmap(pd.DataFrame(cnf_matrix), annot=True, cmap=\"YlGnBu\" ,fmt='g')\n",
    "plt.title('Confusion matrix', y=1.1)\n",
    "plt.ylabel('Actual label')\n",
    "plt.xlabel('Predicted label')"
   ]
  },
  {
   "cell_type": "markdown",
   "id": "1c536929",
   "metadata": {},
   "source": [
    "# Decision Tree"
   ]
  },
  {
   "cell_type": "code",
   "execution_count": 30,
   "id": "2a4ce93a",
   "metadata": {},
   "outputs": [
    {
     "data": {
      "text/html": [
       "<style>#sk-container-id-6 {color: black;}#sk-container-id-6 pre{padding: 0;}#sk-container-id-6 div.sk-toggleable {background-color: white;}#sk-container-id-6 label.sk-toggleable__label {cursor: pointer;display: block;width: 100%;margin-bottom: 0;padding: 0.3em;box-sizing: border-box;text-align: center;}#sk-container-id-6 label.sk-toggleable__label-arrow:before {content: \"▸\";float: left;margin-right: 0.25em;color: #696969;}#sk-container-id-6 label.sk-toggleable__label-arrow:hover:before {color: black;}#sk-container-id-6 div.sk-estimator:hover label.sk-toggleable__label-arrow:before {color: black;}#sk-container-id-6 div.sk-toggleable__content {max-height: 0;max-width: 0;overflow: hidden;text-align: left;background-color: #f0f8ff;}#sk-container-id-6 div.sk-toggleable__content pre {margin: 0.2em;color: black;border-radius: 0.25em;background-color: #f0f8ff;}#sk-container-id-6 input.sk-toggleable__control:checked~div.sk-toggleable__content {max-height: 200px;max-width: 100%;overflow: auto;}#sk-container-id-6 input.sk-toggleable__control:checked~label.sk-toggleable__label-arrow:before {content: \"▾\";}#sk-container-id-6 div.sk-estimator input.sk-toggleable__control:checked~label.sk-toggleable__label {background-color: #d4ebff;}#sk-container-id-6 div.sk-label input.sk-toggleable__control:checked~label.sk-toggleable__label {background-color: #d4ebff;}#sk-container-id-6 input.sk-hidden--visually {border: 0;clip: rect(1px 1px 1px 1px);clip: rect(1px, 1px, 1px, 1px);height: 1px;margin: -1px;overflow: hidden;padding: 0;position: absolute;width: 1px;}#sk-container-id-6 div.sk-estimator {font-family: monospace;background-color: #f0f8ff;border: 1px dotted black;border-radius: 0.25em;box-sizing: border-box;margin-bottom: 0.5em;}#sk-container-id-6 div.sk-estimator:hover {background-color: #d4ebff;}#sk-container-id-6 div.sk-parallel-item::after {content: \"\";width: 100%;border-bottom: 1px solid gray;flex-grow: 1;}#sk-container-id-6 div.sk-label:hover label.sk-toggleable__label {background-color: #d4ebff;}#sk-container-id-6 div.sk-serial::before {content: \"\";position: absolute;border-left: 1px solid gray;box-sizing: border-box;top: 0;bottom: 0;left: 50%;z-index: 0;}#sk-container-id-6 div.sk-serial {display: flex;flex-direction: column;align-items: center;background-color: white;padding-right: 0.2em;padding-left: 0.2em;position: relative;}#sk-container-id-6 div.sk-item {position: relative;z-index: 1;}#sk-container-id-6 div.sk-parallel {display: flex;align-items: stretch;justify-content: center;background-color: white;position: relative;}#sk-container-id-6 div.sk-item::before, #sk-container-id-6 div.sk-parallel-item::before {content: \"\";position: absolute;border-left: 1px solid gray;box-sizing: border-box;top: 0;bottom: 0;left: 50%;z-index: -1;}#sk-container-id-6 div.sk-parallel-item {display: flex;flex-direction: column;z-index: 1;position: relative;background-color: white;}#sk-container-id-6 div.sk-parallel-item:first-child::after {align-self: flex-end;width: 50%;}#sk-container-id-6 div.sk-parallel-item:last-child::after {align-self: flex-start;width: 50%;}#sk-container-id-6 div.sk-parallel-item:only-child::after {width: 0;}#sk-container-id-6 div.sk-dashed-wrapped {border: 1px dashed gray;margin: 0 0.4em 0.5em 0.4em;box-sizing: border-box;padding-bottom: 0.4em;background-color: white;}#sk-container-id-6 div.sk-label label {font-family: monospace;font-weight: bold;display: inline-block;line-height: 1.2em;}#sk-container-id-6 div.sk-label-container {text-align: center;}#sk-container-id-6 div.sk-container {/* jupyter's `normalize.less` sets `[hidden] { display: none; }` but bootstrap.min.css set `[hidden] { display: none !important; }` so we also need the `!important` here to be able to override the default hidden behavior on the sphinx rendered scikit-learn.org. See: https://github.com/scikit-learn/scikit-learn/issues/21755 */display: inline-block !important;position: relative;}#sk-container-id-6 div.sk-text-repr-fallback {display: none;}</style><div id=\"sk-container-id-6\" class=\"sk-top-container\"><div class=\"sk-text-repr-fallback\"><pre>DecisionTreeClassifier(criterion=&#x27;entropy&#x27;, random_state=0)</pre><b>In a Jupyter environment, please rerun this cell to show the HTML representation or trust the notebook. <br />On GitHub, the HTML representation is unable to render, please try loading this page with nbviewer.org.</b></div><div class=\"sk-container\" hidden><div class=\"sk-item\"><div class=\"sk-estimator sk-toggleable\"><input class=\"sk-toggleable__control sk-hidden--visually\" id=\"sk-estimator-id-6\" type=\"checkbox\" checked><label for=\"sk-estimator-id-6\" class=\"sk-toggleable__label sk-toggleable__label-arrow\">DecisionTreeClassifier</label><div class=\"sk-toggleable__content\"><pre>DecisionTreeClassifier(criterion=&#x27;entropy&#x27;, random_state=0)</pre></div></div></div></div></div>"
      ],
      "text/plain": [
       "DecisionTreeClassifier(criterion='entropy', random_state=0)"
      ]
     },
     "execution_count": 30,
     "metadata": {},
     "output_type": "execute_result"
    }
   ],
   "source": [
    "# import DecisionTreeClassifier\n",
    "from sklearn.tree import DecisionTreeClassifier\n",
    "import time\n",
    "\n",
    "clf_en = DecisionTreeClassifier(criterion='entropy', max_depth=None, min_samples_split=2, min_samples_leaf=1, random_state=0)\n",
    "\n",
    "# record the start time\n",
    "start_time = time.time()\n",
    "\n",
    "# fit the model\n",
    "clf_en.fit(X_train, y_train)\n"
   ]
  },
  {
   "cell_type": "code",
   "execution_count": 31,
   "id": "e1f1efe0",
   "metadata": {},
   "outputs": [
    {
     "name": "stdout",
     "output_type": "stream",
     "text": [
      "[1 1 0 0 0 1 1 1 1 0 1 0 1]\n"
     ]
    }
   ],
   "source": [
    "y_pred_en = clf_en.predict(X_test)\n",
    "print(y_pred_en)"
   ]
  },
  {
   "cell_type": "code",
   "execution_count": 32,
   "id": "e7c2f311",
   "metadata": {},
   "outputs": [
    {
     "name": "stdout",
     "output_type": "stream",
     "text": [
      "Akurasi Decision Tree: 100.00%\n",
      "Presisi Decision Tree: 100.00%\n",
      "Recall Decision Tree: 100.00%\n",
      "f1 score Decision Tree: 100.00%\n",
      "Runtime Decision Tree: 4.41 seconds\n"
     ]
    }
   ],
   "source": [
    "from sklearn.metrics import accuracy_score,precision_score, recall_score,f1_score\n",
    "\n",
    "# Hitung akurasi\n",
    "accuracy = accuracy_score(y_test, y_pred_en)\n",
    "print(\"Akurasi Decision Tree: {:.2f}%\".format(accuracy * 100))\n",
    "precision = precision_score(y_test, y_pred_en, average='weighted')\n",
    "print(\"Presisi Decision Tree: {:.2f}%\".format(precision * 100))\n",
    "recall = recall_score(y_test, y_pred_en, average='weighted')\n",
    "print(\"Recall Decision Tree: {:.2f}%\".format(recall * 100))\n",
    "f1 = f1_score(y_test, y_pred_en, average='weighted')\n",
    "print(\"f1 score Decision Tree: {:.2f}%\".format(f1 * 100))\n",
    "\n",
    "# record the end time\n",
    "end_time = time.time()\n",
    "\n",
    "# calculate the runtime\n",
    "runtime = end_time - start_time\n",
    "\n",
    "print(f\"Runtime Decision Tree: {runtime:.2f} seconds\")"
   ]
  },
  {
   "cell_type": "markdown",
   "metadata": {},
   "source": [
    "# Prediksi Model"
   ]
  },
  {
   "cell_type": "code",
   "execution_count": 116,
   "metadata": {},
   "outputs": [
    {
     "name": "stdout",
     "output_type": "stream",
     "text": [
      "Predictions for new data: [0]\n",
      "Pasien Tidak Penumonia\n"
     ]
    }
   ],
   "source": [
    "from sklearn.tree import DecisionTreeClassifier\n",
    "from sklearn.model_selection import train_test_split\n",
    "\n",
    "# Gantilah dengan parameter yang sesuai\n",
    "decision_tree_model = DecisionTreeClassifier(criterion='entropy', max_depth=None, min_samples_split=2, min_samples_leaf=1, random_state=0)\n",
    "\n",
    "# Latih model Decision Tree\n",
    "decision_tree_model.fit(X_train, y_train)\n",
    "\n",
    "# Data baru yang akan diprediksi\n",
    "new_data = new_data = [[0, 67, 0, 1, 0, 0, 1, 20, 37.5]]\n",
    "\n",
    "new_df = pd.DataFrame(new_data)\n",
    "\n",
    "# Lakukan prediksi pada data baru\n",
    "predictions = decision_tree_model.predict(new_df)\n",
    "\n",
    "# Tampilkan hasil prediksi\n",
    "print(f'Predictions for new data: {predictions}')\n",
    "\n",
    "if (predictions[0]==0):\n",
    "    print('Pasien Tidak Penumonia')\n",
    "else:\n",
    "    print('Pasien PENUMONIA AAAA')"
   ]
  },
  {
   "cell_type": "markdown",
   "metadata": {},
   "source": [
    "# Simpan Model"
   ]
  },
  {
   "cell_type": "code",
   "execution_count": 117,
   "metadata": {},
   "outputs": [],
   "source": [
    "import pickle\n",
    "\n",
    "filename = 'prediksi_decision_tree.sav'\n",
    "pickle.dump(decision_tree_model, open(filename,'wb'))"
   ]
  },
  {
   "cell_type": "code",
   "execution_count": 65,
   "id": "3de5b27f",
   "metadata": {},
   "outputs": [
    {
     "data": {
      "text/plain": [
       "[Text(0.625, 0.9375, 'x[5] <= 0.5\\nentropy = 0.988\\nsamples = 101\\nvalue = [44, 57]'),\n",
       " Text(0.5, 0.8125, 'x[6] <= 0.5\\nentropy = 0.918\\nsamples = 66\\nvalue = [44, 22]'),\n",
       " Text(0.25, 0.6875, 'x[8] <= 0.614\\nentropy = 0.348\\nsamples = 46\\nvalue = [43, 3]'),\n",
       " Text(0.125, 0.5625, 'entropy = 0.0\\nsamples = 30\\nvalue = [30, 0]'),\n",
       " Text(0.375, 0.5625, 'x[1] <= 0.418\\nentropy = 0.696\\nsamples = 16\\nvalue = [13, 3]'),\n",
       " Text(0.25, 0.4375, 'x[1] <= 0.144\\nentropy = 1.0\\nsamples = 6\\nvalue = [3, 3]'),\n",
       " Text(0.125, 0.3125, 'entropy = 0.0\\nsamples = 2\\nvalue = [2, 0]'),\n",
       " Text(0.375, 0.3125, 'x[1] <= 0.233\\nentropy = 0.811\\nsamples = 4\\nvalue = [1, 3]'),\n",
       " Text(0.25, 0.1875, 'x[8] <= 0.757\\nentropy = 1.0\\nsamples = 2\\nvalue = [1, 1]'),\n",
       " Text(0.125, 0.0625, 'entropy = 0.0\\nsamples = 1\\nvalue = [0, 1]'),\n",
       " Text(0.375, 0.0625, 'entropy = 0.0\\nsamples = 1\\nvalue = [1, 0]'),\n",
       " Text(0.5, 0.1875, 'entropy = 0.0\\nsamples = 2\\nvalue = [0, 2]'),\n",
       " Text(0.5, 0.4375, 'entropy = 0.0\\nsamples = 10\\nvalue = [10, 0]'),\n",
       " Text(0.75, 0.6875, 'x[2] <= 0.5\\nentropy = 0.286\\nsamples = 20\\nvalue = [1, 19]'),\n",
       " Text(0.625, 0.5625, 'entropy = 0.0\\nsamples = 1\\nvalue = [1, 0]'),\n",
       " Text(0.875, 0.5625, 'entropy = 0.0\\nsamples = 19\\nvalue = [0, 19]'),\n",
       " Text(0.75, 0.8125, 'entropy = 0.0\\nsamples = 35\\nvalue = [0, 35]')]"
      ]
     },
     "execution_count": 65,
     "metadata": {},
     "output_type": "execute_result"
    },
    {
     "data": {
      "image/png": "[encoded data removed]",
      "text/plain": [
       "<Figure size 1200x800 with 1 Axes>"
      ]
     },
     "metadata": {},
     "output_type": "display_data"
    }
   ],
   "source": [
    "plt.figure(figsize=(12,8))\n",
    "\n",
    "from sklearn import tree\n",
    "\n",
    "tree.plot_tree(clf_en.fit(X_train, y_train))"
   ]
  },
  {
   "cell_type": "code",
   "execution_count": 66,
   "id": "78230a5c",
   "metadata": {},
   "outputs": [
    {
     "name": "stdout",
     "output_type": "stream",
     "text": [
      "Confusion matrix\n",
      "\n",
      " [[4 0]\n",
      " [0 8]]\n"
     ]
    }
   ],
   "source": [
    "# Print the Confusion Matrix and slice it into four pieces\n",
    "\n",
    "from sklearn.metrics import confusion_matrix\n",
    "\n",
    "cm = confusion_matrix(y_test, y_pred_en)\n",
    "\n",
    "print('Confusion matrix\\n\\n', cm)"
   ]
  },
  {
   "cell_type": "code",
   "execution_count": 67,
   "id": "528ea4d9",
   "metadata": {},
   "outputs": [
    {
     "data": {
      "text/plain": [
       "Text(0.5, 23.52222222222222, 'Predicted label')"
      ]
     },
     "execution_count": 67,
     "metadata": {},
     "output_type": "execute_result"
    },
    {
     "data": {
      "image/png": "[encoded data removed]",
      "text/plain": [
       "<Figure size 640x480 with 2 Axes>"
      ]
     },
     "metadata": {},
     "output_type": "display_data"
    }
   ],
   "source": [
    "y_pred = clf_en.predict(X_test)\n",
    "from sklearn import metrics\n",
    "cnf_matrix = metrics.confusion_matrix(y_test, y_pred)\n",
    "p = sns.heatmap(pd.DataFrame(cnf_matrix), annot=True, cmap=\"YlGnBu\" ,fmt='g')\n",
    "plt.title('Confusion matrix', y=1.1)\n",
    "plt.ylabel('Actual label')\n",
    "plt.xlabel('Predicted label')"
   ]
  },
  {
   "cell_type": "code",
   "execution_count": null,
   "id": "0a05777d",
   "metadata": {},
   "outputs": [],
   "source": []
  },
  {
   "cell_type": "code",
   "execution_count": null,
   "id": "0efebf7f",
   "metadata": {},
   "outputs": [],
   "source": []
  }
 ],
 "metadata": {
  "kernelspec": {
   "display_name": "Python 3 (ipykernel)",
   "language": "python",
   "name": "python3"
  },
  "language_info": {
   "codemirror_mode": {
    "name": "ipython",
    "version": 3
   },
   "file_extension": ".py",
   "mimetype": "text/x-python",
   "name": "python",
   "nbconvert_exporter": "python",
   "pygments_lexer": "ipython3",
   "version": "3.11.4"
  }
 },
 "nbformat": 4,
 "nbformat_minor": 5
}
